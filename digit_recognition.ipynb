{
 "cells": [
  {
   "cell_type": "code",
   "execution_count": 9,
   "id": "428a0401-d616-4973-9d44-e020220d9f5a",
   "metadata": {},
   "outputs": [],
   "source": [
    "import tensorflow as tf\n",
    "from tensorflow.keras import layers, models\n",
    "import matplotlib.pyplot as plt\n",
    "import numpy as np\n",
    "import cv2\n",
    "import os\n",
    "\n",
    "\n"
   ]
  },
  {
   "cell_type": "markdown",
   "id": "b7bab287-b1ae-427a-bf30-a417afd88ff1",
   "metadata": {},
   "source": [
    "Load MNIST dataset"
   ]
  },
  {
   "cell_type": "code",
   "execution_count": 10,
   "id": "82e686db-0bbb-4b0e-846d-ead1b687869e",
   "metadata": {},
   "outputs": [],
   "source": [
    "mnist=tf.keras.datasets.mnist\n",
    "(x_train, y_train),(x_test,y_test)=mnist.load_data()\n"
   ]
  },
  {
   "cell_type": "markdown",
   "id": "8b175076-8c43-43e3-9ff7-a26d8ecf6fd6",
   "metadata": {},
   "source": [
    "normalize pixel values"
   ]
  },
  {
   "cell_type": "code",
   "execution_count": 11,
   "id": "647a1412-45f2-44e5-b770-25af67221a2f",
   "metadata": {},
   "outputs": [],
   "source": [
    "x_train,x_test=x_train/255.0,x_test/255.0"
   ]
  },
  {
   "cell_type": "markdown",
   "id": "6e88ad08-28d3-4370-be68-7f64f94b7431",
   "metadata": {},
   "source": [
    "reshape images for cnn(4Dshape with 1 channel)\n",
    "\n",
    "Build cnn model"
   ]
  },
  {
   "cell_type": "code",
   "execution_count": 12,
   "id": "b33d1992-2792-4c4f-9356-0a2f53368e06",
   "metadata": {},
   "outputs": [],
   "source": [
    "model=models.Sequential([\n",
    "    layers.Conv2D(32,(3,3),activation='relu', input_shape=(28,28,1)),\n",
    "    layers.MaxPooling2D((2,2)),\n",
    "\n",
    "    layers.Conv2D(64, (3,3), activation='relu'),\n",
    "    layers.MaxPooling2D((2,2)),\n",
    "\n",
    "    layers.Flatten(),\n",
    "    layers.Dense(64,activation='relu'),\n",
    "    layers.Dense(10,activation='softmax')\n",
    "])"
   ]
  },
  {
   "cell_type": "markdown",
   "id": "bb68ae2a-b1b5-4977-bbba-0628f19d9a7b",
   "metadata": {},
   "source": [
    "Conv2D- lean image features\n",
    "MaxPooling2D- Reduce size (keep important features)\n",
    "Flatten-Turn 2D to 1D\n",
    "softmax- multiclass classification"
   ]
  },
  {
   "cell_type": "code",
   "execution_count": 13,
   "id": "5396f968-0802-4f49-9589-bc54292ba7bd",
   "metadata": {},
   "outputs": [],
   "source": [
    "model.compile(optimizer='adam',\n",
    "              loss='sparse_categorical_crossentropy',\n",
    "              metrics=['accuracy'])"
   ]
  },
  {
   "cell_type": "markdown",
   "id": "1c6dce8d-5470-401d-a337-3d89c9d93231",
   "metadata": {},
   "source": [
    "adam-optimizer that adjsut leaning automatically\n",
    "sparse_categorical_crossentropy- good for multiclass labels\n",
    "accuracy- model performance"
   ]
  },
  {
   "cell_type": "code",
   "execution_count": 14,
   "id": "d7ac8b1e-a559-4218-b04f-83b9f17e68be",
   "metadata": {},
   "outputs": [
    {
     "name": "stdout",
     "output_type": "stream",
     "text": [
      "Epoch 1/5\n",
      "\u001b[1m1688/1688\u001b[0m \u001b[32m━━━━━━━━━━━━━━━━━━━━\u001b[0m\u001b[37m\u001b[0m \u001b[1m69s\u001b[0m 39ms/step - accuracy: 0.8869 - loss: 0.3687 - val_accuracy: 0.9842 - val_loss: 0.0555\n",
      "Epoch 2/5\n",
      "\u001b[1m1688/1688\u001b[0m \u001b[32m━━━━━━━━━━━━━━━━━━━━\u001b[0m\u001b[37m\u001b[0m \u001b[1m81s\u001b[0m 38ms/step - accuracy: 0.9827 - loss: 0.0560 - val_accuracy: 0.9868 - val_loss: 0.0402\n",
      "Epoch 3/5\n",
      "\u001b[1m1688/1688\u001b[0m \u001b[32m━━━━━━━━━━━━━━━━━━━━\u001b[0m\u001b[37m\u001b[0m \u001b[1m54s\u001b[0m 32ms/step - accuracy: 0.9874 - loss: 0.0401 - val_accuracy: 0.9875 - val_loss: 0.0395\n",
      "Epoch 4/5\n",
      "\u001b[1m1688/1688\u001b[0m \u001b[32m━━━━━━━━━━━━━━━━━━━━\u001b[0m\u001b[37m\u001b[0m \u001b[1m54s\u001b[0m 32ms/step - accuracy: 0.9928 - loss: 0.0234 - val_accuracy: 0.9887 - val_loss: 0.0436\n",
      "Epoch 5/5\n",
      "\u001b[1m1688/1688\u001b[0m \u001b[32m━━━━━━━━━━━━━━━━━━━━\u001b[0m\u001b[37m\u001b[0m \u001b[1m51s\u001b[0m 30ms/step - accuracy: 0.9939 - loss: 0.0182 - val_accuracy: 0.9892 - val_loss: 0.0376\n"
     ]
    },
    {
     "data": {
      "text/plain": [
       "<keras.src.callbacks.history.History at 0x1a764984d00>"
      ]
     },
     "execution_count": 14,
     "metadata": {},
     "output_type": "execute_result"
    }
   ],
   "source": [
    "model.fit(x_train, y_train, epochs=5,validation_split=0.1)"
   ]
  },
  {
   "cell_type": "markdown",
   "id": "2ce33468-7120-48ea-b25e-9419edbfc43b",
   "metadata": {},
   "source": [
    "\n",
    "epochs-5 - Train the model 5 times on data\n",
    "validation_split-Keeps 10% data to check if the model is overfitting"
   ]
  },
  {
   "cell_type": "code",
   "execution_count": 15,
   "id": "1449d2dd-dd9a-481d-bc92-0a257ede31d6",
   "metadata": {},
   "outputs": [
    {
     "name": "stderr",
     "output_type": "stream",
     "text": [
      "WARNING:absl:You are saving your model as an HDF5 file via `model.save()` or `keras.saving.save_model(model)`. This file format is considered legacy. We recommend using instead the native Keras format, e.g. `model.save('my_model.keras')` or `keras.saving.save_model(model, 'my_model.keras')`. \n"
     ]
    }
   ],
   "source": [
    "model.save(\"cnn_mnist_model.h5\")"
   ]
  },
  {
   "cell_type": "code",
   "execution_count": 16,
   "id": "795ad244-a99a-4251-aeaa-628496b0f09b",
   "metadata": {},
   "outputs": [
    {
     "name": "stdout",
     "output_type": "stream",
     "text": [
      "\u001b[1m313/313\u001b[0m \u001b[32m━━━━━━━━━━━━━━━━━━━━\u001b[0m\u001b[37m\u001b[0m \u001b[1m3s\u001b[0m 10ms/step\n"
     ]
    }
   ],
   "source": [
    "predictions=model.predict(x_test)"
   ]
  },
  {
   "cell_type": "code",
   "execution_count": 90,
   "id": "e3599552-d481-4882-a228-15a22244129a",
   "metadata": {},
   "outputs": [],
   "source": [
    "image_path ='9.png'\n",
    "img=cv2.imread(image_path,cv2.IMREAD_GRAYSCALE)"
   ]
  },
  {
   "cell_type": "markdown",
   "id": "38bfce8d-4e4b-4394-b29b-0628f9e9c6c6",
   "metadata": {},
   "source": [
    "Resize to 28x28"
   ]
  },
  {
   "cell_type": "code",
   "execution_count": 91,
   "id": "cb7e2868-0149-4ff9-a542-59feb7c69039",
   "metadata": {},
   "outputs": [],
   "source": [
    "img=cv2.resize(img, (28,28))\n",
    "img=255-img #invert blackwhte\n",
    "img=img/255.0\n",
    "img=img.reshape(1,28,28,1)"
   ]
  },
  {
   "cell_type": "code",
   "execution_count": 92,
   "id": "5f7efbba-4bce-4aa7-a28e-901fe0276c93",
   "metadata": {},
   "outputs": [
    {
     "name": "stderr",
     "output_type": "stream",
     "text": [
      "WARNING:absl:Compiled the loaded model, but the compiled metrics have yet to be built. `model.compile_metrics` will be empty until you train or evaluate the model.\n"
     ]
    },
    {
     "name": "stdout",
     "output_type": "stream",
     "text": [
      "\u001b[1m1/1\u001b[0m \u001b[32m━━━━━━━━━━━━━━━━━━━━\u001b[0m\u001b[37m\u001b[0m \u001b[1m0s\u001b[0m 193ms/step\n"
     ]
    }
   ],
   "source": [
    "model = tf.keras.models.load_model(\"cnn_mnist_model.h5\")\n",
    "prediction = model.predict(img)\n",
    "predicted_digit = np.argmax(prediction)"
   ]
  },
  {
   "cell_type": "code",
   "execution_count": 93,
   "id": "a5a69659-a079-419b-b32b-80f8178b2333",
   "metadata": {},
   "outputs": [
    {
     "data": {
      "image/png": "[encoded data removed]",
      "text/plain": [
       "<Figure size 640x480 with 1 Axes>"
      ]
     },
     "metadata": {},
     "output_type": "display_data"
    }
   ],
   "source": [
    "plt.imshow(img.reshape(28, 28), cmap='gray')\n",
    "plt.title(f\"Predicted Digit: {predicted_digit}\")\n",
    "plt.axis('off')\n",
    "plt.show()"
   ]
  },
  {
   "cell_type": "code",
   "execution_count": null,
   "id": "9242fcbd-835a-4c9c-a9ed-1182a32adfa8",
   "metadata": {},
   "outputs": [],
   "source": []
  }
 ],
 "metadata": {
  "kernelspec": {
   "display_name": "Python 3 (ipykernel)",
   "language": "python",
   "name": "python3"
  },
  "language_info": {
   "codemirror_mode": {
    "name": "ipython",
    "version": 3
   },
   "file_extension": ".py",
   "mimetype": "text/x-python",
   "name": "python",
   "nbconvert_exporter": "python",
   "pygments_lexer": "ipython3",
   "version": "3.10.18"
  }
 },
 "nbformat": 4,
 "nbformat_minor": 5
}
